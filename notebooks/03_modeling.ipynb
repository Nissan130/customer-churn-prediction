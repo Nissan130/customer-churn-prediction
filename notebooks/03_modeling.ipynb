{
 "cells": [
  {
   "cell_type": "code",
   "execution_count": 41,
   "id": "e094dabd-9d71-4138-8442-ae798f228c78",
   "metadata": {},
   "outputs": [],
   "source": [
    "# import libraries\n",
    "import joblib \n",
    "from sklearn.linear_model import LogisticRegression\n",
    "from sklearn.pipeline import Pipeline"
   ]
  },
  {
   "cell_type": "code",
   "execution_count": 42,
   "id": "130ac56c-654c-4a69-8b70-8e0aa615360e",
   "metadata": {},
   "outputs": [],
   "source": [
    "# load the saved preprocessed data\n",
    "X_train, X_test, y_train, y_test, preprocessor = joblib.load(\"../models/preprocessed.pkl\")\n"
   ]
  },
  {
   "cell_type": "code",
   "execution_count": 43,
   "id": "5a96d5e1-c406-46df-af5c-264080459337",
   "metadata": {},
   "outputs": [],
   "source": [
    "# apply logistic regression model\n",
    "\n",
    "log_reg_model = Pipeline(steps=[\n",
    "    (\"preprocessor\", preprocessor),\n",
    "    (\"logreg\", LogisticRegression(max_iter=1000))\n",
    "])\n",
    "\n",
    "# train the model with data\n",
    "log_reg_model.fit(X_train, y_train)\n",
    "\n",
    "# predict the value with test data\n",
    "y_pred_logreg = log_reg_model.predict(X_test)"
   ]
  },
  {
   "cell_type": "code",
   "execution_count": 44,
   "id": "6f0d429d-c2f9-4941-a176-bd2fd1eddf62",
   "metadata": {},
   "outputs": [],
   "source": [
    "# random forest model\n",
    "from sklearn.ensemble import RandomForestClassifier\n",
    "rf_model = Pipeline(steps=[\n",
    "    (\"preprocessor\", preprocessor),\n",
    "    (\"logreg\", RandomForestClassifier(n_estimators=100, random_state=42))\n",
    "])\n",
    "\n",
    "# train the model with data\n",
    "rf_model.fit(X_train, y_train)\n",
    "\n",
    "# predict the value with test data\n",
    "y_pred_rf = rf_model.predict(X_test)"
   ]
  },
  {
   "cell_type": "code",
   "execution_count": 45,
   "id": "e313ce9d-ab77-462b-b8cf-f84230e67168",
   "metadata": {},
   "outputs": [],
   "source": [
    "# decision tree model\n",
    "from sklearn.tree import DecisionTreeClassifier\n",
    "dt_model = Pipeline(steps=[\n",
    "    (\"preprocessor\", preprocessor),\n",
    "    (\"logreg\", DecisionTreeClassifier())\n",
    "])\n",
    "\n",
    "# train the model with data\n",
    "dt_model.fit(X_train, y_train)\n",
    "\n",
    "# predict the value with test data\n",
    "y_pred_dt = dt_model.predict(X_test)"
   ]
  },
  {
   "cell_type": "code",
   "execution_count": 46,
   "id": "434676c0-34a6-4bfa-8901-a29a205fa808",
   "metadata": {},
   "outputs": [
    {
     "name": "stdout",
     "output_type": "stream",
     "text": [
      "Logistic regression result: \n",
      "\n",
      "Accuracy:  0.8048261178140526\n",
      "              precision    recall  f1-score   support\n",
      "\n",
      "           0       0.85      0.90      0.87      1035\n",
      "           1       0.66      0.55      0.60       374\n",
      "\n",
      "    accuracy                           0.80      1409\n",
      "   macro avg       0.75      0.72      0.74      1409\n",
      "weighted avg       0.80      0.80      0.80      1409\n",
      "\n",
      "Confusion Matrix: \n",
      " [[927 108]\n",
      " [167 207]]\n"
     ]
    }
   ],
   "source": [
    "# evaluate the logistic regression model\n",
    "from sklearn.metrics import accuracy_score, classification_report, confusion_matrix\n",
    "print(\"Logistic regression result: \\n\")\n",
    "print(\"Accuracy: \", accuracy_score(y_test, y_pred_logreg))\n",
    "print(classification_report(y_test, y_pred_logreg))\n",
    "print(\"Confusion Matrix: \\n\", confusion_matrix(y_test, y_pred_logreg))\n"
   ]
  },
  {
   "cell_type": "code",
   "execution_count": 47,
   "id": "d59fd157-59e0-4417-a5e8-f386f585bb8f",
   "metadata": {},
   "outputs": [
    {
     "name": "stdout",
     "output_type": "stream",
     "text": [
      "Random Forest result: \n",
      "\n",
      "Accuracy:  0.7970191625266146\n",
      "              precision    recall  f1-score   support\n",
      "\n",
      "           0       0.84      0.90      0.87      1035\n",
      "           1       0.65      0.51      0.57       374\n",
      "\n",
      "    accuracy                           0.80      1409\n",
      "   macro avg       0.74      0.71      0.72      1409\n",
      "weighted avg       0.79      0.80      0.79      1409\n",
      "\n",
      "Confusion Matrix: \n",
      " [[931 104]\n",
      " [182 192]]\n"
     ]
    }
   ],
   "source": [
    "# evaluate the random forest model\n",
    "from sklearn.metrics import accuracy_score, classification_report, confusion_matrix\n",
    "print(\"Random Forest result: \\n\")\n",
    "print(\"Accuracy: \", accuracy_score(y_test, y_pred_rf))\n",
    "print(classification_report(y_test, y_pred_rf))\n",
    "print(\"Confusion Matrix: \\n\", confusion_matrix(y_test, y_pred_rf))\n"
   ]
  },
  {
   "cell_type": "code",
   "execution_count": 48,
   "id": "9bbfc0aa-a915-4c61-9da7-54e1240f9401",
   "metadata": {},
   "outputs": [
    {
     "name": "stdout",
     "output_type": "stream",
     "text": [
      "Decision Tree  result: \n",
      "\n",
      "Accuracy:  0.7374024130589071\n",
      "              precision    recall  f1-score   support\n",
      "\n",
      "           0       0.82      0.83      0.82      1035\n",
      "           1       0.51      0.49      0.50       374\n",
      "\n",
      "    accuracy                           0.74      1409\n",
      "   macro avg       0.66      0.66      0.66      1409\n",
      "weighted avg       0.73      0.74      0.74      1409\n",
      "\n",
      "Confusion Matrix: \n",
      " [[856 179]\n",
      " [191 183]]\n"
     ]
    }
   ],
   "source": [
    "# evaluate the decision tree model\n",
    "from sklearn.metrics import accuracy_score, classification_report, confusion_matrix\n",
    "print(\"Decision Tree  result: \\n\")\n",
    "print(\"Accuracy: \", accuracy_score(y_test, y_pred_dt))\n",
    "print(classification_report(y_test, y_pred_dt))\n",
    "print(\"Confusion Matrix: \\n\", confusion_matrix(y_test, y_pred_dt))\n"
   ]
  },
  {
   "cell_type": "code",
   "execution_count": 49,
   "id": "7c7b04d4-c09f-40cb-b059-69c71c68170e",
   "metadata": {},
   "outputs": [
    {
     "name": "stdout",
     "output_type": "stream",
     "text": [
      "Best model saved as final_model.pkl\n"
     ]
    }
   ],
   "source": [
    "# save the best model\n",
    "joblib.dump(log_reg_model, \"../models/final_model.pkl\")\n",
    "print(\"Best model saved as final_model.pkl\")"
   ]
  },
  {
   "cell_type": "code",
   "execution_count": null,
   "id": "d47f9006-2862-4638-b0db-02f0255b36c5",
   "metadata": {},
   "outputs": [],
   "source": []
  }
 ],
 "metadata": {
  "kernelspec": {
   "display_name": "Python 3 (ipykernel)",
   "language": "python",
   "name": "python3"
  },
  "language_info": {
   "codemirror_mode": {
    "name": "ipython",
    "version": 3
   },
   "file_extension": ".py",
   "mimetype": "text/x-python",
   "name": "python",
   "nbconvert_exporter": "python",
   "pygments_lexer": "ipython3",
   "version": "3.13.5"
  }
 },
 "nbformat": 4,
 "nbformat_minor": 5
}
